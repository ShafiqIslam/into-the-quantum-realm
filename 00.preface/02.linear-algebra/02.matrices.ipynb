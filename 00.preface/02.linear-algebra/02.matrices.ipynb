{
 "cells": [
  {
   "cell_type": "markdown",
   "metadata": {},
   "source": [
    "### Matrices and Matrix Operations"
   ]
  },
  {
   "cell_type": "markdown",
   "metadata": {},
   "source": [
    "**Matrices** are mathematical objects that transform vectors into other vectors, e.g.: matrix multiplication. As a vector is also a matrix (just one row or one column), thus can be used to represent linear transformations.\n",
    "\n",
    "To perform a quantum computation, state of **qubits** (state vectors) can be changed by applying sequences of **quantum gates** (matrix). For instance, a commonly seen quantum gate is the **Pauli-X gate**, which is represented by the following matrix:\n",
    "\n",
    "$$\\sigma_x \\ = \\ \\begin{pmatrix} 0 & 1 \\\\ 1 & 0 \\end{pmatrix}$$\n",
    "\n",
    "This gate acts similarly to the classical NOT logic gate. It flips state $|0\\rangle$ to $|1\\rangle$ and $|1\\rangle$ to $|0\\rangle$. The two basis states can be represented as column vectors:\n",
    "\n",
    "$$|0\\rangle \\ = \\ \\begin{pmatrix} 1 \\\\ 0 \\end{pmatrix} \\ \\ \\ \\ \\ \\ \\ |1\\rangle \\ = \\ \\begin{pmatrix} 0 \\\\ 1 \\end{pmatrix}$$\n",
    "\n",
    "After appling the matrix to each of the vectors:\n",
    "\n",
    "$$\\sigma_x |0\\rangle \\ = \\ \\begin{pmatrix} 0 & 1 \\\\ 1 & 0 \\end{pmatrix} \\begin{pmatrix} 1 \\\\ 0 \\end{pmatrix} \\ = \\ \\begin{pmatrix} (0)(1) \\ + \\ (1)(0) \\\\ (1)(1) \\ + \\ (0)(0) \\end{pmatrix} \\ = \\ \\begin{pmatrix} 0 \\\\ 1 \\end{pmatrix} \\ = \\ |1\\rangle$$\n",
    "\n",
    "$$\\sigma_x |1\\rangle \\ = \\ \\begin{pmatrix} 0 & 1 \\\\ 1 & 0 \\end{pmatrix} \\begin{pmatrix} 0 \\\\ 1 \\end{pmatrix} \\ = \\ \\begin{pmatrix} (0)(0) \\ + \\ (1)(1) \\\\ (1)(0) \\ + \\ (0)(1) \\end{pmatrix} \\ = \\ \\begin{pmatrix} 1 \\\\ 0 \\end{pmatrix} \\ = \\ |0\\rangle$$\n",
    "\n",
    "<br>\n",
    "\n",
    "Quantum computation encounters two important types of matrices: **Hermitian** and **Unitary** matrices. The former is more important in the study of quantum mechanics, but is still necessary to discuss in a study of quantum computation. The latter is of unparalleled importance in both quantum mechanics and quantum computation.\n",
    "\n",
    "A Hermitian matrix is simply a matrix that is equal to its **conjugate transpose** (denoted with a $\\dagger$ symbol).  This means that flipping the sign of a Hermitian matrix's imaginary components, then reflecting its entries along its main diagonal (from the top left to bottom right corners), produces an equal matrix. For instance, the **Pauli-Y matrix**, commonly used in quantum computation, is Hermitian:\n",
    "\n",
    "$$\\sigma_y \\ = \\ \\begin{pmatrix} 0 & -i \\\\ i & 0 \\end{pmatrix} \\ \\Rightarrow \\ \\sigma_y^{\\dagger} \\ = \\ \\begin{pmatrix} 0 & -(i) \\\\ -(-i) & 0 \\end{pmatrix} \\ = \\ \\begin{pmatrix} 0 & -i \\\\ i & 0 \\end{pmatrix} \\ = \\ \\sigma_y$$\n",
    "\n",
    "A unitary matrix is a matrix such that the **inverse matrix** is equal to the conjugate transpose of the original matrix. The inverse of some matrix $A$, denoted as $A^{-1}$, is a matrix such that:\n",
    "\n",
    "$$A^{-1} A \\ = \\ A A^{-1} \\ = \\ \\mathbb{I} \\ ,$$\n",
    "\n",
    "where $\\mathbb{I}$ is the identity matrix. The identity matrix has $1$ s along the main diagonal, and $0$ s in all other places. It is called the identity matrix because it acts trivially on any other matrix (it has no effect). When matrices get larger than $2 \\ \\times \\ 2$, calculating the inverse becomes sufficiently complicated that it is usually left to computers to calculate. For a $2 \\ \\times \\ 2$ matrix, the inverse is defined as:\n",
    "\n",
    "$$A \\ = \\ \\begin{pmatrix} a & b \\\\ c & d \\end{pmatrix} \\ \\Rightarrow \\ A^{-1} \\ = \\ \\frac{1}{\\text{det} \\ A} \\begin{pmatrix} d & -b \\\\ -c & a \\end{pmatrix},$$\n",
    "\n",
    "where $\\text{det} \\ A$ is the **determinant** of the matrix. In the $2 \\ \\times \\ 2$ case, $\\text{det} \\ A \\ = \\ ad \\ - \\ bc$.\n",
    "\n",
    "Calculating inverse matrices is rarely important in quantum computing. Since most of the matrices we encounter are unitary, we can assume that the inverse is simply given by taking the conjugate transpose.\n",
    "\n",
    "The Pauli-Y matrix, in addition to being Hermitian, is also unitary (it is equal to its conjugate transpose, which is also equal to its inverse; therefore, the Pauli-Y matrix is its own inverse!):\n",
    "\n",
    "$$\\sigma_y \\ = \\ \\begin{pmatrix} 0 & -i \\\\ i & 0 \\end{pmatrix} \\ \\ \\ \\ \\ \\sigma_y^{\\dagger} \\ = \\ \\begin{pmatrix} 0 & -i \\\\ i & 0 \\end{pmatrix} \\ \\Rightarrow \\ \\sigma_y^{\\dagger} \\sigma_y \\ = \\ \\begin{pmatrix} (0)(0) + (-i)(i) & (0)(-i) \\ + \\ (-i)(0) \\\\ (i)(0) \\ + \\ (0)(i) &  (i)(-i) \\ + \\ (0)(0) \\end{pmatrix} \\ = \\ \\begin{pmatrix} 1 & 0 \\\\ 0 & 1 \\end{pmatrix} \\ = \\ \\mathbb{I}$$\n",
    "\n",
    "The basic idea of why unitary matrices are important is that: evolution of a quantum state by application of a unitary matrix \"preserves\" the norm (magnitude) of the quantum state."
   ]
  }
 ],
 "metadata": {
  "kernelspec": {
   "display_name": "Python 3.8.10 64-bit",
   "language": "python",
   "name": "python3"
  },
  "language_info": {
   "codemirror_mode": {
    "name": "ipython",
    "version": 3
   },
   "file_extension": ".py",
   "mimetype": "text/x-python",
   "name": "python",
   "nbconvert_exporter": "python",
   "pygments_lexer": "ipython3",
   "version": "3.8.10"
  },
  "orig_nbformat": 4,
  "vscode": {
   "interpreter": {
    "hash": "e7370f93d1d0cde622a1f8e1c04877d8463912d04d973331ad4851f04de6915a"
   }
  }
 },
 "nbformat": 4,
 "nbformat_minor": 2
}
