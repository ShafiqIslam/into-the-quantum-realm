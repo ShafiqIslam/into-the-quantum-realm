{
 "cells": [
  {
   "cell_type": "markdown",
   "metadata": {},
   "source": [
    "### Spanning Sets, Linear Dependence, and Bases"
   ]
  },
  {
   "cell_type": "markdown",
   "metadata": {},
   "source": [
    "We are now in a position to discuss the construction of vector spaces. Consider some vector space $V$. We say that some set of vectors $S$ spans a subspace $V_S \\ \\subset \\ V$ (subset closed under vector space operations) of the vector space, if we can write any vector in the subspace as a **linear combination** of vectors contained within the spanning set. \n",
    "\n",
    "A linear combination of some collection vectors $|v_1\\rangle, \\ ..., \\ |v_n\\rangle$ in some vector space over a field $F$ is defined as an arbitrary sum of these vectors (which of course will be another vector that we will call $|v\\rangle$):\n",
    "\n",
    "$$|v\\rangle \\ = \\ f_1 |v_1\\rangle \\ + \\ f_2 |v_2\\rangle \\ + \\ ... \\ + \\ f_n |v_n\\rangle \\ = \\ \\displaystyle\\sum_{i} \\ f_i |v_i\\rangle$$\n",
    "\n",
    "where each $f_i$ is some element of $F$. If we have a set of vectors that spans a space, we are saying that **any other vector** in the vector space can be written as a linear combination of these vectors.\n",
    "\n",
    "A set of vectors $|v_1\\rangle, \\ ..., \\ |v_n\\rangle$ is said to be **linearly dependent** if there exist corresponding coefficients for each vector, $b_i \\ \\in \\ F$, such that:\n",
    "\n",
    "$$b_1 |v_1\\rangle \\ + \\ b_2 |v_2\\rangle \\ + \\ ... \\ + \\ b_n |v_n\\rangle \\ = \\ \\displaystyle\\sum_{i} \\ b_i |v_i\\rangle \\ = \\ 0 \\ ,$$\n",
    "\n",
    "where at least one of the $b_i$ coefficients is non-zero. This is equivalent to the more intuitive statement that \"the set of vectors can be expressed as linear combinations of each other\". For example, let us have the set $\\{|v_1\\rangle, \\ ..., \\ |v_n\\rangle \\}$ along with the corresponding coefficients $\\{b_1, \\ ..., \\ b_n \\}$, such that the linear combination is equal to $0$. Since there is at least one vector with a non-zero coefficient, we choose a term in the linear combination $b_a |v_a\\rangle$:\n",
    "\n",
    "$$\\displaystyle\\sum_{i} \\ b_i |v_i\\rangle \\ = \\ b_a |v_a\\rangle \\ + \\ \\displaystyle\\sum_{i, \\ i \\ \\neq \\ a} \\ b_i |v_i\\rangle \\ = \\ 0 \\ \\Rightarrow \\ |v_a\\rangle \\ = \\ - \\displaystyle\\sum_{i, \\ i \\ \\neq \\ a} \\ \\frac{b_i}{b_a} |v_i\\rangle \\ = \\ \\displaystyle\\sum_{i, \\ i \\ \\neq \\ a} \\ c_i |v_i\\rangle$$\n",
    "\n",
    "In the case that $b_a$ is the only non-zero coefficient, it is necessarily true that $|v_a\\rangle$ is the null vector, automatically making the set linearly dependent. If this is not the case, $|v_a\\rangle$ has been written as a linear combination of non-zero vectors, as was shown above. To prove the converse, we assume that there exists some vector $|v_a\\rangle$ in the subspace $|v_1\\rangle, ..., \\ |v_n\\rangle$ that can be written as a linear combination of other vectors in the subspace. This means that:\n",
    "\n",
    "$$|v_a\\rangle \\ = \\ \\displaystyle\\sum_{s} b_s |v_s\\rangle$$\n",
    "\n",
    "where $s$ is an index that runs over a subset of the subspace. It follows that:\n",
    "\n",
    "$$|v_a\\rangle \\ - \\ \\displaystyle\\sum_{s} b_s |v_s\\rangle \\ = \\ |v_a\\rangle \\ - \\ (b_1|v_{s_1}\\rangle \\ + \\ ... \\ + \\ b_r|v_{s_r}\\rangle) \\ = \\ 0$$\n",
    "\n",
    "For all vectors in the subspace that are not included in the subset indexed by $s$, we set their coefficients, indexed by $q$, equal to $0$. Thus,\n",
    "\n",
    "$$|v_a\\rangle \\ - \\ (b_1|v_{s_1}\\rangle \\ + \\ ... \\ + \\ b_r|v_{s_r}\\rangle) \\ + \\ (0)(|v_{q_1}\\rangle \\ + \\ ... \\ + \\ |v_{q_t}\\rangle) \\ = \\ 0$$\n",
    "\n",
    "which is a linear combination of all elements in the subspace $|v_1\\rangle, \\ ..., \\ |v_n\\rangle$. This is equal to $0$, thus completing the proof that the two definitions of linear dependence imply each other.\n",
    "\n",
    "Let's now consider a basic example. Consider the set of two vectors in $\\mathbb{R}^2$, consisting of $|a\\rangle \\ = \\ \\begin{pmatrix} 1 \\\\ 0 \\end{pmatrix}$ and $|b\\rangle \\ = \\ \\begin{pmatrix} 2 \\\\ 0 \\end{pmatrix}$. If we choose the field over our vector space to be $\\mathbb{R}$, then we can create a linear combination of these vectors that equates to $0$. For example:\n",
    "\n",
    "$$2|a\\rangle \\ - \\ |b\\rangle \\ = \\ 0$$\n",
    "\n",
    "A set of vectors is said to be **linearly independent** if there is no vector in the set that can be expressed as a linear combination of all the others.\n",
    "\n",
    "The notion of a **basis** is simply a **linearly independent spanning set**. In this sense, the basis of a vector space is the minimal possible set that spans the entire space. We call the size of the basis set the **dimension** of the vector space.\n",
    "\n",
    "Bases and spanning sets are important because they allow us to \"shrink down\" vector spaces and express them in terms of only a few vectors. We can come to certain conclusions about our basis set that we can generalize to the entire vector space, simply because we know every vector in the space is just a linear combination of the basis vectors. \n",
    "\n",
    "In quantum computation, one of the bases that we often encounter is $|0\\rangle, \\ |1\\rangle$. We can write any other qubit state as a linear combination of these basis vectors. For instance, the linear combination\n",
    "\n",
    "$$\\frac{|0\\rangle \\ + \\ |1\\rangle}{\\sqrt{2}}$$\n",
    "\n",
    "represents a superposition between the $|0\\rangle$ and $|1\\rangle$ basis state, with equal probability of measuring the state to be in either one of the basis vector states (this is intuitive, as the \"weight\" or the \"amount of each basis vector\" in the linear combination is equal, both being scaled by $1/\\sqrt{2}$)."
   ]
  }
 ],
 "metadata": {
  "kernelspec": {
   "display_name": "Python 3.8.10 64-bit",
   "language": "python",
   "name": "python3"
  },
  "language_info": {
   "codemirror_mode": {
    "name": "ipython",
    "version": 3
   },
   "file_extension": ".py",
   "mimetype": "text/x-python",
   "name": "python",
   "nbconvert_exporter": "python",
   "pygments_lexer": "ipython3",
   "version": "3.8.10"
  },
  "orig_nbformat": 4,
  "vscode": {
   "interpreter": {
    "hash": "e7370f93d1d0cde622a1f8e1c04877d8463912d04d973331ad4851f04de6915a"
   }
  }
 },
 "nbformat": 4,
 "nbformat_minor": 2
}
