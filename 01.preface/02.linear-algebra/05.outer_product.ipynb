{
 "cells": [
  {
   "cell_type": "markdown",
   "metadata": {},
   "source": [
    "### Outer Products and Tensor Products"
   ]
  },
  {
   "cell_type": "markdown",
   "metadata": {},
   "source": [
    "Inner products aren't the only way to multiply vectors. Occasionally, we'll switch the order of the bra and ket in order to take the **outer product,** whose outcome is a matrix, rather than a single number. For two vectors $|a\\rangle$ and $|b\\rangle$ in a Hilbert space, we denote the outer product as $| a \\rangle$$\\langle b |$, where $\\langle b |$ is equal to the conjugate transpose of $|b\\rangle$, as before. This gets us:\n",
    "\n",
    "$$| a \\rangle \\langle b | \\ = \\ \\begin{pmatrix} a_1 \\\\ a_2 \\\\ \\vdots \\\\ a_n \\end{pmatrix} \\begin{pmatrix} b_1^{*} & b_2^{*} & \\cdots & b_n^{*} \\end{pmatrix} \\ = \\begin{pmatrix} a_1 b_1^{*} & a_1 b_2^{*} & \\cdots & a_1 b_n^{*} \\\\ a_2 b_1^{*} & a_2 b_2^{*} &  & \\vdots \\\\ \\vdots &  & \\ddots & \\vdots \\\\ a_n b_1^{*} & \\cdots & \\cdots & a_n b_n^{*} \\end{pmatrix}$$\n",
    "\n",
    "Outer products give us a way to represent quantum gates with bras and kets, rather than matrices. For example, take the Pauli-X gate:\n",
    "\n",
    "$$\\sigma_x \\ = \\ \\begin{pmatrix} 0 & 1 \\\\ 1 & 0 \\end{pmatrix}$$\n",
    "\n",
    "We can represent this as the sum $|0\\rangle\\langle 1| + |1\\rangle\\langle 0|$, since:\n",
    "\n",
    "$$|0\\rangle \\langle 1| \\ + \\ |1\\rangle \\langle 0| \\ = \\ \\begin{pmatrix} 1 \\\\ 0 \\end{pmatrix} \\begin{pmatrix} 0 & 1 \\end{pmatrix} + \\begin{pmatrix} 0 \\\\ 1 \\end{pmatrix} \\begin{pmatrix} 1 & 0 \\end{pmatrix} \\ = \\ \\begin{pmatrix} 0 & 1 \\\\ 0 & 0 \\end{pmatrix} + \\begin{pmatrix} 0 & 0 \\\\ 1 & 0 \\end{pmatrix} \\ = \\ \\begin{pmatrix} 0 & 1 \\\\ 1 & 0 \\end{pmatrix} \\ = \\ \\sigma_x $$\n",
    "\n",
    "The outer product is, in fact, a specific example of the more general **tensor product** used to multiply vector spaces together. \n",
    "\n",
    "Most often, you'll see the tensor product used to describe the shared state of two or more qubits. Notice here that the tensor product doesn't require taking one of the vector's conjugate transposes like the outer product does—we're multiplying two kets together instead of a ket and a bra. The tensor product of vectors $|a \\rangle$ and $|b\\rangle$, written $|a\\rangle \\otimes |b\\rangle$ or $|ab\\rangle$, equals:\n",
    "\n",
    "$$ |a\\rangle \\otimes |b\\rangle \\ = \\ \\begin{pmatrix} a_{1} \\begin{pmatrix} b_{1} \\\\ b_{2} \\end{pmatrix} \\\\ a_{2} \\begin{pmatrix} b_{1} \\\\ b_{2} \\end{pmatrix} \\end{pmatrix} \\ = \\begin{pmatrix} a_{1} b_{1} \\\\ a_{1} b_{2} \\\\ a_{2} b_{1} \\\\ a_{2} b_{2} \\end{pmatrix} $$\n",
    "\n",
    "If we want to act on the new vector produced by the tensor product of $|a \\rangle$ and $|b\\rangle$, we'll have to take the tensor product of the operators we hope to act on them with as well. The tensor product of matrices *A* and *B* equals:\n",
    "\n",
    "$$ A \\otimes B \\ = \\ \\begin{pmatrix} a_{11} B & \\cdots & a_{1n} B \\\\ \\vdots & \\ddots & \\vdots \\\\ a_{m1} B & \\cdots & a_{mn} B \\end{pmatrix} $$"
   ]
  }
 ],
 "metadata": {
  "kernelspec": {
   "display_name": "Python 3.8.10 64-bit",
   "language": "python",
   "name": "python3"
  },
  "language_info": {
   "codemirror_mode": {
    "name": "ipython",
    "version": 3
   },
   "file_extension": ".py",
   "mimetype": "text/x-python",
   "name": "python",
   "nbconvert_exporter": "python",
   "pygments_lexer": "ipython3",
   "version": "3.8.10"
  },
  "orig_nbformat": 4,
  "vscode": {
   "interpreter": {
    "hash": "e7370f93d1d0cde622a1f8e1c04877d8463912d04d973331ad4851f04de6915a"
   }
  }
 },
 "nbformat": 4,
 "nbformat_minor": 2
}
